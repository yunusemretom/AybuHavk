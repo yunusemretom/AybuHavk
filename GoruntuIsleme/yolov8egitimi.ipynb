{
  "cells": [
    {
      "cell_type": "code",
      "execution_count": null,
      "metadata": {
        "id": "iBye3cJyAc8i"
      },
      "outputs": [],
      "source": [
        "\n",
        "%pip install -q roboflow #roboflow u install ediyoruz\n",
        "\n",
        "import torch\n",
        "import os\n",
        "from IPython.display import Image, clear_output  # resimleri görüntülemek için\n",
        "\n",
        "print(f\"Setup complete. Using torch {torch.__version__} ({torch.cuda.get_device_properties(0).name if torch.cuda.is_available() else 'CPU'})\") #hangi ekran kartını kullandığımızı yazdırıyoruz\n"
      ]
    },
    {
      "cell_type": "code",
      "execution_count": null,
      "metadata": {
        "id": "PI17_kfXIoHJ"
      },
      "outputs": [],
      "source": [
        "# environment'ı kuruyoruz\n",
        "os.environ[\"DATASET_DIRECTORY\"] = \"/content/dataset\""
      ]
    },
    {
      "cell_type": "code",
      "execution_count": null,
      "metadata": {
        "id": "VlXBhbMYIqZp"
      },
      "outputs": [],
      "source": [
        "!pip install roboflow\n",
        "\n",
        "from roboflow import Roboflow\n",
        "rf = Roboflow(api_key=\"**********\")\n",
        "project = rf.workspace(\"egitim-blmkg\").project(\"airplane-tvow2\")\n",
        "version = project.version(7)\n",
        "dataset = version.download(\"yolov8\")\n"
      ]
    },
    {
      "cell_type": "code",
      "execution_count": null,
      "metadata": {
        "colab": {
          "base_uri": "https://localhost:8080/"
        },
        "id": "oUq3QGwPAhhB",
        "outputId": "14d3643e-c282-4037-f544-090942431189"
      },
      "outputs": [
        {
          "name": "stdout",
          "output_type": "stream",
          "text": [
            "✅ Updated 'tensorboard=True'\n",
            "JSONDict(\"/root/.config/Ultralytics/settings.json\"):\n",
            "{\n",
            "  \"settings_version\": \"0.0.6\",\n",
            "  \"datasets_dir\": \"/content/datasets\",\n",
            "  \"weights_dir\": \"weights\",\n",
            "  \"runs_dir\": \"runs\",\n",
            "  \"uuid\": \"569f3ba64b326db489132663f79cd37279811de477381b83ac131e6cdd129cbb\",\n",
            "  \"sync\": true,\n",
            "  \"api_key\": \"\",\n",
            "  \"openai_api_key\": \"\",\n",
            "  \"clearml\": true,\n",
            "  \"comet\": true,\n",
            "  \"dvc\": true,\n",
            "  \"hub\": true,\n",
            "  \"mlflow\": true,\n",
            "  \"neptune\": true,\n",
            "  \"raytune\": true,\n",
            "  \"tensorboard\": true,\n",
            "  \"wandb\": false,\n",
            "  \"vscode_msg\": true,\n",
            "  \"openvino_msg\": true\n",
            "}\n",
            "💡 Learn more about Ultralytics Settings at https://docs.ultralytics.com/quickstart/#ultralytics-settings\n"
          ]
        }
      ],
      "source": [
        "!yolo settings tensorboard=True"
      ]
    },
    {
      "cell_type": "code",
      "execution_count": null,
      "metadata": {
        "id": "kwX-emEbuwdT"
      },
      "outputs": [],
      "source": [
        "!pip install --upgrade pip setuptools wheel\n",
        "!pip install --upgrade onnx pycocotools\n"
      ]
    },
    {
      "cell_type": "code",
      "execution_count": null,
      "metadata": {
        "id": "FMbMQB26JB_r"
      },
      "outputs": [],
      "source": [
        "!pip install ultralytics\n",
        "!pip install super_gradients\n"
      ]
    },
    {
      "cell_type": "code",
      "execution_count": null,
      "metadata": {
        "colab": {
          "base_uri": "https://localhost:8080/",
          "height": 36
        },
        "id": "EoPQ6TR9LOKJ",
        "outputId": "aeabae82-45f8-45c0-cf30-15a7ff146795"
      },
      "outputs": [
        {
          "data": {
            "application/vnd.google.colaboratory.intrinsic+json": {
              "type": "string"
            },
            "text/plain": [
              "'/content/dataset/Airplane-7/data.yaml'"
            ]
          },
          "execution_count": 6,
          "metadata": {},
          "output_type": "execute_result"
        }
      ],
      "source": [
        "f\"{dataset.location}/data.yaml\""
      ]
    },
    {
      "cell_type": "code",
      "execution_count": null,
      "metadata": {
        "id": "e0qIY_IvJE1X"
      },
      "outputs": [],
      "source": [
        "from ultralytics import YOLO\n",
        "\n",
        "# YOLOv8 modelini yükle veya yolunu belirle\n",
        "model = YOLO('/content/yolov8n.pt')  # 'yolov8s.pt', 'yolov8m.pt', 'yolov8l.pt', 'yolov8x.pt' gibi diğer modelleri de seçebilirsin.\n",
        "\n",
        "# Modeli eğit\n",
        "model.train(\n",
        "    data=f\"/content/dataset/Airplane-7/data.yaml\",  # Eğitim verisinin yolunu belirt.\n",
        "    epochs=3,                       # Eğitim için epoch sayısı\n",
        "    imgsz=640,                       # Resim boyutu\n",
        "    batch=24,                        # Batch boyutu\n",
        "    name='yolov8_custom',             # Eğitim sonucu oluşturulacak klasör adı\n",
        "\n",
        ")\n",
        "\n"
      ]
    },
    {
      "cell_type": "code",
      "execution_count": null,
      "metadata": {
        "colab": {
          "base_uri": "https://localhost:8080/"
        },
        "id": "_mfVm-0RR6Lc",
        "outputId": "90403bb6-4bbf-4766-8b1c-a1901b05404f"
      },
      "outputs": [],
      "source": [
        "!tensorboard --logdir runs/detect/yolov8_custom"
      ]
    },
    {
      "cell_type": "code",
      "execution_count": null,
      "metadata": {
        "id": "5jntiGzidPKL"
      },
      "outputs": [],
      "source": [
        "# Modeli kaydet\n",
        "model.save('/content/model.pt')"
      ]
    },
    {
      "cell_type": "code",
      "execution_count": null,
      "metadata": {
        "id": "m7ezCVDxNyqG"
      },
      "outputs": [],
      "source": [
        "!python train.py --img 416 --batch 16 --epochs 100 --data {dataset.location}/data.yaml --weights yolov5s.pt --cache"
      ]
    },
    {
      "cell_type": "code",
      "execution_count": null,
      "metadata": {
        "id": "PuyHVMyKTIFJ"
      },
      "outputs": [],
      "source": [
        "%reload_ext tensorboard"
      ]
    },
    {
      "cell_type": "code",
      "execution_count": null,
      "metadata": {
        "collapsed": true,
        "id": "E8iHv10gN5Sh"
      },
      "outputs": [],
      "source": [
        "%load_ext tensorboard\n",
        "%tensorboard --logdir /content/runs/detect/yolov8_custom6"
      ]
    }
  ],
  "metadata": {
    "accelerator": "GPU",
    "colab": {
      "gpuType": "T4",
      "provenance": []
    },
    "kernelspec": {
      "display_name": "Python 3",
      "name": "python3"
    },
    "language_info": {
      "name": "python"
    }
  },
  "nbformat": 4,
  "nbformat_minor": 0
}
